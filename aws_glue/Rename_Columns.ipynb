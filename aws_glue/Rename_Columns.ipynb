{
 "cells": [
  {
   "cell_type": "markdown",
   "metadata": {
    "deletable": false,
    "editable": false,
    "tags": []
   },
   "source": [
    "\n",
    "# Glue Studio Notebook\n",
    "You are now running a **Glue Studio** notebook; before you can start using your notebook you *must* start an interactive session.\n",
    "\n",
    "## Available Magics\n",
    "|          Magic              |   Type       |                                                                        Description                                                                        |\n",
    "|-----------------------------|--------------|-----------------------------------------------------------------------------------------------------------------------------------------------------------|\n",
    "| %%configure                 |  Dictionary  |  A json-formatted dictionary consisting of all configuration parameters for a session. Each parameter can be specified here or through individual magics. |\n",
    "| %profile                    |  String      |  Specify a profile in your aws configuration to use as the credentials provider.                                                                          |\n",
    "| %iam_role                   |  String      |  Specify an IAM role to execute your session with.                                                                                                        |\n",
    "| %region                     |  String      |  Specify the AWS region in which to initialize a session                                                                                                  |\n",
    "| %session_id                 |  String      |  Returns the session ID for the running session.                                                                                                          |\n",
    "| %connections                |  List        |  Specify a comma separated list of connections to use in the session.                                                                                     |\n",
    "| %additional_python_modules  |  List        |  Comma separated list of pip packages, s3 paths or private pip arguments.                                                                                 |\n",
    "| %extra_py_files             |  List        |  Comma separated list of additional Python files from S3.                                                                                                 |\n",
    "| %extra_jars                 |  List        |  Comma separated list of additional Jars to include in the cluster.                                                                                       |\n",
    "| %number_of_workers          |  Integer     |  The number of workers of a defined worker_type that are allocated when a job runs. worker_type must be set too.                                          |\n",
    "| %worker_type                |  String      |  Standard, G.1X, *or* G.2X. number_of_workers must be set too. Default is G.1X                                                                            |\n",
    "| %glue_version               |  String      |  The version of Glue to be used by this session. Currently, the only valid options are 2.0 and 3.0 (eg: %glue_version 2.0)                                |\n",
    "| %security_config            |  String      |  Define a security configuration to be used with this session.                                                                                            |\n",
    "| %sql                        |  String      |  Run SQL code. All lines after the initial %%sql magic will be passed as part of the SQL code.                                                            |\n",
    "| %streaming                  |  String      |  Changes the session type to Glue Streaming.                                                                                                              |\n",
    "| %etl                        |  String      |   Changes the session type to Glue ETL.                                                                                                                   |\n",
    "| %status                     |              |  Returns the status of the current Glue session including its duration, configuration and executing user / role.                                          |\n",
    "| %stop_session               |              |  Stops the current session.                                                                                                                               |\n",
    "| %list_sessions              |              |  Lists all currently running sessions by name and ID.                                                                                                     |\n",
    "| %spark_conf                 |  String      |  Specify custom spark configurations for your session. E.g. %spark_conf spark.serializer=org.apache.spark.serializer.KryoSerializer                       |"
   ]
  },
  {
   "cell_type": "code",
   "execution_count": 2,
   "metadata": {},
   "outputs": [
    {
     "name": "stdout",
     "output_type": "stream",
     "text": [
      "You are already connected to session fb60ca5b-b5d3-4e82-872c-6c55ddb8f804. Your change will not reflect in the current session, but it will affect future new sessions. \n",
      "\n",
      "Previous number of workers: 5\n",
      "Setting new number of workers to: 2\n"
     ]
    }
   ],
   "source": [
    "%number_of_workers 2"
   ]
  },
  {
   "cell_type": "code",
   "execution_count": 1,
   "metadata": {},
   "outputs": [
    {
     "name": "stdout",
     "output_type": "stream",
     "text": [
      "\n"
     ]
    }
   ],
   "source": [
    "import sys\n",
    "from awsglue.transforms import *\n",
    "from awsglue.utils import getResolvedOptions\n",
    "from pyspark.context import SparkContext\n",
    "from awsglue.context import GlueContext\n",
    "from awsglue.job import Job\n",
    "  \n",
    "sc = SparkContext.getOrCreate()\n",
    "glueContext = GlueContext(sc)\n",
    "spark = glueContext.spark_session\n",
    "job = Job(glueContext)"
   ]
  },
  {
   "cell_type": "code",
   "execution_count": 33,
   "metadata": {},
   "outputs": [
    {
     "name": "stdout",
     "output_type": "stream",
     "text": [
      "\n"
     ]
    }
   ],
   "source": [
    "s3_path = 's3://s3-bucket/prefix/'\n",
    "dyf_customer = glueContext.create_dynamic_frame_from_options(connection_type= 's3',\n",
    "                                                               connection_options={\"paths\": [s3_path]},\n",
    "                                                               format='csv', format_options = {\"withHeader\": True, \"optimizePerformance\": True})"
   ]
  },
  {
   "cell_type": "code",
   "execution_count": 34,
   "metadata": {},
   "outputs": [
    {
     "name": "stdout",
     "output_type": "stream",
     "text": [
      "+--------+--------------------+------------+----------+\n",
      "|order_id|         customer_id|total_amount|order_date|\n",
      "+--------+--------------------+------------+----------+\n",
      "|    1000|43fb5b29-3b6d-4a3...|      642.66|2022-08-24|\n",
      "|     999|d510e386-4d2b-416...|     1324.86|2022-08-27|\n",
      "|     998|a743267d-544d-464...|       76.37|2022-08-24|\n",
      "|     997|e2ac237c-fae2-49e...|      981.05|2022-08-26|\n",
      "|     996|ace8c4f9-5f10-497...|      750.84|2022-08-27|\n",
      "+--------+--------------------+------------+----------+\n",
      "only showing top 5 rows\n"
     ]
    }
   ],
   "source": [
    "dyf_customer.toDF().show(5)"
   ]
  },
  {
   "cell_type": "markdown",
   "metadata": {
    "tags": []
   },
   "source": [
    "## Rename Columns"
   ]
  },
  {
   "cell_type": "code",
   "execution_count": 36,
   "metadata": {},
   "outputs": [
    {
     "name": "stdout",
     "output_type": "stream",
     "text": [
      "+--------+--------------------+----------+--------------+\n",
      "|order_id|         customer_id|order_date|purchase_total|\n",
      "+--------+--------------------+----------+--------------+\n",
      "|    1000|43fb5b29-3b6d-4a3...|2022-08-24|        642.66|\n",
      "|     999|d510e386-4d2b-416...|2022-08-27|       1324.86|\n",
      "|     998|a743267d-544d-464...|2022-08-24|         76.37|\n",
      "|     997|e2ac237c-fae2-49e...|2022-08-26|        981.05|\n",
      "|     996|ace8c4f9-5f10-497...|2022-08-27|        750.84|\n",
      "+--------+--------------------+----------+--------------+\n",
      "only showing top 5 rows\n"
     ]
    }
   ],
   "source": [
    "dyf_rename_column=dyf_customer.rename_field(\n",
    "    oldName = 'total_amount',\n",
    "    newName = 'purchase_total',\n",
    "    transformation_ctx = 'rename_one_column')\n",
    "dyf_rename_column.toDF().show(5)"
   ]
  },
  {
   "cell_type": "markdown",
   "metadata": {},
   "source": [
    "## Rename Multiple Columns "
   ]
  },
  {
   "cell_type": "code",
   "execution_count": 38,
   "metadata": {},
   "outputs": [
    {
     "name": "stdout",
     "output_type": "stream",
     "text": [
      "+----+--------------------+---------------------+----------+\n",
      "|  id|         customer_id|total_purchase_amount|order_date|\n",
      "+----+--------------------+---------------------+----------+\n",
      "|1000|43fb5b29-3b6d-4a3...|               642.66|2022-08-24|\n",
      "| 999|d510e386-4d2b-416...|              1324.86|2022-08-27|\n",
      "| 998|a743267d-544d-464...|                76.37|2022-08-24|\n",
      "| 997|e2ac237c-fae2-49e...|               981.05|2022-08-26|\n",
      "| 996|ace8c4f9-5f10-497...|               750.84|2022-08-27|\n",
      "+----+--------------------+---------------------+----------+\n",
      "only showing top 5 rows\n"
     ]
    }
   ],
   "source": [
    "mapping = [(\"order_id\", \"string\", \"id\", \"int\"),\n",
    "                (\"customer_id\", \"string\", \"customer_id\", \"string\"),\n",
    "                (\"total_amount\", \"string\", \"total_purchase_amount\", \"double\"),\n",
    "                (\"order_date\", \"string\", \"order_date\", \"string\")]\n",
    "dyf_rename_m_columns = dyf_customer.apply_mapping(mapping,transformation_ctx = 'rename_multiple_columns')\n",
    "dyf_rename_m_columns.toDF().show(5)"
   ]
  }
 ],
 "metadata": {
  "kernelspec": {
   "display_name": "Glue PySpark",
   "language": "python",
   "name": "glue_pyspark"
  },
  "language_info": {
   "codemirror_mode": {
    "name": "python",
    "version": 3
   },
   "file_extension": ".py",
   "mimetype": "text/x-python",
   "name": "Python_Glue_Session",
   "pygments_lexer": "python3"
  }
 },
 "nbformat": 4,
 "nbformat_minor": 4
}
