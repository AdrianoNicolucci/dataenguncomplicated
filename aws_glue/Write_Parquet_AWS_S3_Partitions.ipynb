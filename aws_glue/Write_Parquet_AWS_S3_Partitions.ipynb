{
 "metadata": {
  "kernelspec": {
   "display_name": "Glue PySpark",
   "language": "python",
   "name": "glue_pyspark"
  },
  "language_info": {
   "codemirror_mode": {
    "name": "python",
    "version": 3
   },
   "file_extension": ".py",
   "mimetype": "text/x-python",
   "name": "Python_Glue_Session",
   "pygments_lexer": "python3"
  }
 },
 "nbformat_minor": 4,
 "nbformat": 4,
 "cells": [
  {
   "cell_type": "markdown",
   "source": [
    "\n",
    "# Glue Studio Notebook\n",
    "You are now running a **Glue Studio** notebook; before you can start using your notebook you *must* start an interactive session.\n",
    "\n",
    "## Available Magics\n",
    "|          Magic              |   Type       |                                                                        Description                                                                        |\n",
    "|-----------------------------|--------------|-----------------------------------------------------------------------------------------------------------------------------------------------------------|\n",
    "| %%configure                 |  Dictionary  |  A json-formatted dictionary consisting of all configuration parameters for a session. Each parameter can be specified here or through individual magics. |\n",
    "| %profile                    |  String      |  Specify a profile in your aws configuration to use as the credentials provider.                                                                          |\n",
    "| %iam_role                   |  String      |  Specify an IAM role to execute your session with.                                                                                                        |\n",
    "| %region                     |  String      |  Specify the AWS region in which to initialize a session                                                                                                  |\n",
    "| %session_id                 |  String      |  Returns the session ID for the running session.                                                                                                          |\n",
    "| %connections                |  List        |  Specify a comma separated list of connections to use in the session.                                                                                     |\n",
    "| %additional_python_modules  |  List        |  Comma separated list of pip packages, s3 paths or private pip arguments.                                                                                 |\n",
    "| %extra_py_files             |  List        |  Comma separated list of additional Python files from S3.                                                                                                 |\n",
    "| %extra_jars                 |  List        |  Comma separated list of additional Jars to include in the cluster.                                                                                       |\n",
    "| %number_of_workers          |  Integer     |  The number of workers of a defined worker_type that are allocated when a job runs. worker_type must be set too.                                          |\n",
    "| %worker_type                |  String      |  Standard, G.1X, *or* G.2X. number_of_workers must be set too. Default is G.1X                                                                            |\n",
    "| %glue_version               |  String      |  The version of Glue to be used by this session. Currently, the only valid options are 2.0 and 3.0 (eg: %glue_version 2.0)                                |\n",
    "| %security_configuration     |  String      |  Define a security configuration to be used with this session.                                                                                            |\n",
    "| %sql                        |  String      |  Run SQL code. All lines after the initial %%sql magic will be passed as part of the SQL code.                                                            |\n",
    "| %streaming                  |  String      |  Changes the session type to Glue Streaming.                                                                                                              |\n",
    "| %etl                        |  String      |   Changes the session type to Glue ETL.                                                                                                                   |\n",
    "| %status                     |              |  Returns the status of the current Glue session including its duration, configuration and executing user / role.                                          |\n",
    "| %stop_session               |              |  Stops the current session.                                                                                                                               |\n",
    "| %list_sessions              |              |  Lists all currently running sessions by name and ID.                                                                                                     |"
   ],
   "metadata": {
    "deletable": false,
    "editable": false
   }
  },
  {
   "cell_type": "code",
   "source": [
    "%number_of_workers  2\n",
    "%glue_version '3.0'"
   ],
   "metadata": {
    "trusted": true
   },
   "execution_count": 3,
   "outputs": [
    {
     "name": "stdout",
     "text": "Welcome to the Glue Interactive Sessions Kernel\nFor more information on available magic commands, please type %help in any new cell.\n\nPlease view our Getting Started page to access the most up-to-date information on the Interactive Sessions kernel: https://docs.aws.amazon.com/glue/latest/dg/interactive-sessions.html\nIt looks like there is a newer version of the kernel available. The latest version is 0.34 and you have 0.30 installed.\nPlease run `pip install --upgrade aws-glue-sessions` to upgrade your kernel\nPrevious number of workers: 5\nSetting new number of workers to: 2\nSetting Glue version to: 3.0\n",
     "output_type": "stream"
    }
   ]
  },
  {
   "cell_type": "markdown",
   "source": [
    "## Default Import Statements"
   ],
   "metadata": {}
  },
  {
   "cell_type": "code",
   "source": [
    "import sys\n",
    "from awsglue.transforms import *\n",
    "from awsglue.utils import getResolvedOptions\n",
    "from pyspark.context import SparkContext\n",
    "from awsglue.context import GlueContext\n",
    "from awsglue.job import Job\n",
    "  \n",
    "sc = SparkContext.getOrCreate()\n",
    "glueContext = GlueContext(sc)\n",
    "spark = glueContext.spark_session\n",
    "job = Job(glueContext)"
   ],
   "metadata": {
    "trusted": true
   },
   "execution_count": 1,
   "outputs": [
    {
     "name": "stdout",
     "text": "\n",
     "output_type": "stream"
    }
   ]
  },
  {
   "cell_type": "markdown",
   "source": [
    "## Read Data in CSV From AWS S3"
   ],
   "metadata": {}
  },
  {
   "cell_type": "code",
   "source": [
    "order_df = glueContext.create_dynamic_frame_from_options(connection_type= 's3',\n",
    "                                                               connection_options={\"paths\": ['s3://s3_bucket/raw/directory/']},\n",
    "                                                               format='csv', format_options = {\"withHeader\": True, \"optimizePerformance\": True})"
   ],
   "metadata": {
    "trusted": true
   },
   "execution_count": 2,
   "outputs": [
    {
     "name": "stdout",
     "text": "\n",
     "output_type": "stream"
    }
   ]
  },
  {
   "cell_type": "markdown",
   "source": [
    "## Display schema and first 5 records"
   ],
   "metadata": {}
  },
  {
   "cell_type": "code",
   "source": [
    "order_df.printSchema()\n",
    "order_df.toDF().show(5)"
   ],
   "metadata": {
    "trusted": true
   },
   "execution_count": 3,
   "outputs": [
    {
     "name": "stdout",
     "text": "root\n|-- order_id: string\n|-- customer_id: string\n|-- total_amount: string\n|-- order_date: string\n\n+--------+--------------------+------------+----------+\n|order_id|         customer_id|total_amount|order_date|\n+--------+--------------------+------------+----------+\n|    1000|43fb5b29-3b6d-4a3...|      642.66|2022-08-24|\n|     999|d510e386-4d2b-416...|     1324.86|2022-08-27|\n|     998|a743267d-544d-464...|       76.37|2022-08-24|\n|     997|e2ac237c-fae2-49e...|      981.05|2022-08-26|\n|     996|ace8c4f9-5f10-497...|      750.84|2022-08-27|\n+--------+--------------------+------------+----------+\nonly showing top 5 rows\n",
     "output_type": "stream"
    }
   ]
  },
  {
   "cell_type": "markdown",
   "source": [
    "## Remap Data Types to Correct Data Type"
   ],
   "metadata": {}
  },
  {
   "cell_type": "code",
   "source": [
    "order_df_transformed =  ApplyMapping.apply(frame=order_df,\n",
    "                                           mappings=[(\"order_id\", \"string\", \"order_id\", \"int\"),\n",
    "                                        (\"customer_id\", \"string\", \"customer_id\", \"string\"),\n",
    "                                        (\"total_amount\", \"string\", \"total_amount\", \"double\"),\n",
    "                                        (\"order_date\", \"string\", \"order_date\", \"string\")],\n",
    "                                           transformation_ctx=\"order_df_transformation\")\n",
    "order_df_transformed.printSchema()"
   ],
   "metadata": {
    "trusted": true
   },
   "execution_count": 4,
   "outputs": [
    {
     "name": "stdout",
     "text": "root\n|-- order_id: int\n|-- customer_id: string\n|-- total_amount: double\n|-- order_date: string\n",
     "output_type": "stream"
    }
   ]
  },
  {
   "cell_type": "markdown",
   "source": [
    "## Write To AWS S3 and Create Table in Glue Catalog"
   ],
   "metadata": {
    "tags": []
   }
  },
  {
   "cell_type": "code",
   "source": [
    "write_S3_parquet  = glueContext.getSink(\n",
    "     path=\"s3://s3_bucket/processed/output_directory/\",\n",
    "     connection_type=\"s3\",\n",
    "     updateBehavior=\"UPDATE_IN_DATABASE\",\n",
    "     partitionKeys=[\"order_date\"],\n",
    "    compression= \"gzip\",\n",
    "    enableUpdateCatalog=True,\n",
    "    transformation_ctx=\"Write_S3_parquet\")\n",
    "\n",
    "write_S3_parquet.setCatalogInfo(catalogDatabase=\"customer\", catalogTableName=\"order\")\n",
    "write_S3_parquet.setFormat(\"glueparquet\")\n",
    "write_S3_parquet.writeFrame(order_df_transformed)"
   ],
   "metadata": {
    "trusted": true
   },
   "execution_count": 6,
   "outputs": [
    {
     "name": "stdout",
     "text": "<awsglue.dynamicframe.DynamicFrame object at 0x7f07fb57f9d0>\n",
     "output_type": "stream"
    }
   ]
  },
  {
   "cell_type": "code",
   "source": "",
   "metadata": {},
   "execution_count": null,
   "outputs": []
  }
 ]
}