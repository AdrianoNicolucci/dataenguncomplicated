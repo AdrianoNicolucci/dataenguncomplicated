{
	"metadata": {
		"kernelspec": {
			"name": "glue_pyspark",
			"display_name": "Glue PySpark",
			"language": "python"
		},
		"language_info": {
			"name": "Python_Glue_Session",
			"mimetype": "text/x-python",
			"codemirror_mode": {
				"name": "python",
				"version": 3
			},
			"pygments_lexer": "python3",
			"file_extension": ".py"
		}
	},
	"nbformat_minor": 4,
	"nbformat": 4,
	"cells": [
		{
			"cell_type": "markdown",
			"source": "\n# Glue Studio Notebook\nYou are now running a **Glue Studio** notebook; before you can start using your notebook you *must* start an interactive session.\n\n## Available Magics\n|          Magic              |   Type       |                                                                        Description                                                                        |\n|-----------------------------|--------------|-----------------------------------------------------------------------------------------------------------------------------------------------------------|\n| %%configure                 |  Dictionary  |  A json-formatted dictionary consisting of all configuration parameters for a session. Each parameter can be specified here or through individual magics. |\n| %profile                    |  String      |  Specify a profile in your aws configuration to use as the credentials provider.                                                                          |\n| %iam_role                   |  String      |  Specify an IAM role to execute your session with.                                                                                                        |\n| %region                     |  String      |  Specify the AWS region in which to initialize a session                                                                                                  |\n| %session_id                 |  String      |  Returns the session ID for the running session.                                                                                                          |\n| %connections                |  List        |  Specify a comma separated list of connections to use in the session.                                                                                     |\n| %additional_python_modules  |  List        |  Comma separated list of pip packages, s3 paths or private pip arguments.                                                                                 |\n| %extra_py_files             |  List        |  Comma separated list of additional Python files from S3.                                                                                                 |\n| %extra_jars                 |  List        |  Comma separated list of additional Jars to include in the cluster.                                                                                       |\n| %number_of_workers          |  Integer     |  The number of workers of a defined worker_type that are allocated when a job runs. worker_type must be set too.                                          |\n| %worker_type                |  String      |  Standard, G.1X, *or* G.2X. number_of_workers must be set too. Default is G.1X                                                                            |\n| %glue_version               |  String      |  The version of Glue to be used by this session. Currently, the only valid options are 2.0 and 3.0 (eg: %glue_version 2.0)                                |\n| %security_config            |  String      |  Define a security configuration to be used with this session.                                                                                            |\n| %sql                        |  String      |  Run SQL code. All lines after the initial %%sql magic will be passed as part of the SQL code.                                                            |\n| %streaming                  |  String      |  Changes the session type to Glue Streaming.                                                                                                              |\n| %etl                        |  String      |   Changes the session type to Glue ETL.                                                                                                                   |\n| %status                     |              |  Returns the status of the current Glue session including its duration, configuration and executing user / role.                                          |\n| %stop_session               |              |  Stops the current session.                                                                                                                               |\n| %list_sessions              |              |  Lists all currently running sessions by name and ID.                                                                                                     |\n| %spark_conf                 |  String      |  Specify custom spark configurations for your session. E.g. %spark_conf spark.serializer=org.apache.spark.serializer.KryoSerializer                       |",
			"metadata": {
				"editable": false,
				"deletable": false,
				"trusted": true
			}
		},
		{
			"cell_type": "code",
			"source": "%number_of_workers 2",
			"metadata": {
				"trusted": true
			},
			"execution_count": null,
			"outputs": []
		},
		{
			"cell_type": "code",
			"source": "import sys\nfrom awsglue.transforms import *\nfrom awsglue.utils import getResolvedOptions\nfrom pyspark.context import SparkContext\nfrom awsglue.context import GlueContext\nfrom awsglue.job import Job\n  \nsc = SparkContext.getOrCreate()\nglueContext = GlueContext(sc)\nspark = glueContext.spark_session\njob = Job(glueContext)",
			"metadata": {
				"editable": true,
				"trusted": true
			},
			"execution_count": 44,
			"outputs": [
				{
					"name": "stdout",
					"text": "\n",
					"output_type": "stream"
				}
			]
		},
		{
			"cell_type": "markdown",
			"source": "## Create DynamicFrame From JSON Data From AWS S3",
			"metadata": {}
		},
		{
			"cell_type": "code",
			"source": "dyf_customer = glueContext.create_dynamic_frame_from_catalog('customer_raw','customer_orders_with_address_json')\ns3_path = \"s3://your_s3_bucket/raw/customer/customer_orders_with_address_json/'\ndyf_customer_from_s3= glueContext.create_dynamic_frame_from_options(connection_type= 's3',\n                                                               connection_options={\"paths\": [s3_path]},\n                                                               format='json')\n\ndyf_customer.toDF().show(5)\ndyf_customer_from_s3.toDF().show(5)",
			"metadata": {
				"trusted": true
			},
			"execution_count": 46,
			"outputs": [
				{
					"name": "stdout",
					"text": "+--------+--------------------+------------+----------+--------------------+\n|order_id|         customer_id|total_amount|order_date|             address|\n+--------+--------------------+------------+----------+--------------------+\n|       1|ef48a4d0-b794-4e0...|    $1306.10|2022-08-22|[[Nedašov, 2 Onei...|\n|       2|f4711520-c6f2-47f...|    $1388.30|2022-02-03|[[Hiseti, 6959 Fa...|\n|       3|4d4a7f9e-15eb-431...|    $1610.24|2022-07-30|[[Giraldo, 47332 ...|\n|       4|5e4fabb7-a877-4bd...|     $171.71|2021-10-27|                  []|\n|       5|1dca0bc8-0051-4be...|    $1415.38|2021-12-08|[[Inya, 9054 Red ...|\n+--------+--------------------+------------+----------+--------------------+\nonly showing top 5 rows\n\n+--------+--------------------+------------+----------+--------------------+\n|order_id|         customer_id|total_amount|order_date|             address|\n+--------+--------------------+------------+----------+--------------------+\n|       1|ef48a4d0-b794-4e0...|    $1306.10|2022-08-22|[[Nedašov, 2 Onei...|\n|       2|f4711520-c6f2-47f...|    $1388.30|2022-02-03|[[Hiseti, 6959 Fa...|\n|       3|4d4a7f9e-15eb-431...|    $1610.24|2022-07-30|[[Giraldo, 47332 ...|\n|       4|5e4fabb7-a877-4bd...|     $171.71|2021-10-27|                  []|\n|       5|1dca0bc8-0051-4be...|    $1415.38|2021-12-08|[[Inya, 9054 Red ...|\n+--------+--------------------+------------+----------+--------------------+\nonly showing top 5 rows\n",
					"output_type": "stream"
				}
			]
		},
		{
			"cell_type": "markdown",
			"source": "## Unest JSON in Dynamic Frame",
			"metadata": {}
		},
		{
			"cell_type": "code",
			"source": "unested = dyf_customer.relationalize('root','s3://adriano-datalake-us-east-1/raw/customer/customer_orders_with_address_temp/')\nunested.keys()\nunested.select(\"root_address\").toDF().show()\nunested.select(\"root\").toDF().show()",
			"metadata": {
				"trusted": true
			},
			"execution_count": 48,
			"outputs": [
				{
					"name": "stdout",
					"text": "+---+-----+------------------+--------------------------+\n| id|index|  address.val.city|address.val.street_address|\n+---+-----+------------------+--------------------------+\n|  1|    0|           Nedašov|           2 Oneill Center|\n|  1|    1|Klášterec nad Ohří|      13 Holy Cross Center|\n|  1|    2|            Arnhem|        39845 Thierer Hill|\n|  1|    3|           Windsor|      5 Ronald Regan Place|\n|  2|    0|            Hiseti|         6959 Farmco Court|\n|  2|    1|              Bahe|         4069 Surrey Alley|\n|  2|    2|          Ayang-ni|       8290 Carpenter Park|\n|  2|    3|         Kiukainen|         9398 Lerdahl Lane|\n|  3|    0|           Giraldo|         47332 Fordem Road|\n|  4| null|                  |                          |\n|  5|    0|              Inya|      9054 Red Cloud Ju...|\n|  5|    1|         Vera Cruz|        3742 Mcguire Trail|\n|  5|    2|          Honolulu|              1 Hudson Way|\n|  5|    3|      Sumpur Kudus|      316 Pepper Wood S...|\n|  5|    4|         Besisahar|      4 Golden Leaf Ter...|\n|  6|    0|       Loma Bonita|      85 Grayhawk Junction|\n|  6|    1|           Hamburg|          32 Lillian Drive|\n|  6|    2|            Chiryū|            8 Buhler Alley|\n|  6|    3|          Javorník|            650 Truax Road|\n|  6|    4|            Genang|          0 Burrows Street|\n+---+-----+------------------+--------------------------+\nonly showing top 20 rows\n\n+--------+--------------------+------------+----------+-------+\n|order_id|         customer_id|total_amount|order_date|address|\n+--------+--------------------+------------+----------+-------+\n|       1|ef48a4d0-b794-4e0...|    $1306.10|2022-08-22|      1|\n|       2|f4711520-c6f2-47f...|    $1388.30|2022-02-03|      2|\n|       3|4d4a7f9e-15eb-431...|    $1610.24|2022-07-30|      3|\n|       4|5e4fabb7-a877-4bd...|     $171.71|2021-10-27|      4|\n|       5|1dca0bc8-0051-4be...|    $1415.38|2021-12-08|      5|\n|       6|2065a0ed-613e-431...|     $143.91|2021-10-24|      6|\n|       7|61e2514a-b688-40e...|    $1105.55|2022-03-11|      7|\n|       8|8dcdc791-4660-480...|     $850.89|2022-05-14|      8|\n|       9|2df56391-b436-46c...|     $560.65|2022-05-30|      9|\n|      10|1a53d74e-4b4e-41c...|      $74.48|2021-10-27|     10|\n|      11|b894532a-a20c-421...|    $1984.51|2021-12-23|     11|\n|      12|96abf4fe-b125-40e...|     $874.58|2022-04-14|     12|\n|      13|5b463944-dc32-4b6...|    $1918.85|2022-05-09|     13|\n|      14|45427ce9-a396-40c...|     $956.37|2022-06-13|     14|\n|      15|cb43ff62-fffd-4ee...|     $250.29|2022-06-27|     15|\n|      16|aa5270ac-d267-4e0...|    $1171.20|2021-12-03|     16|\n|      17|118530a4-dcc9-411...|     $543.42|2022-08-09|     17|\n|      18|fe810461-4ba3-491...|    $1382.26|2022-09-07|     18|\n|      19|db239332-5fae-427...|    $1296.79|2021-11-15|     19|\n|      20|7f46e766-3259-425...|    $1754.27|2022-03-12|     20|\n+--------+--------------------+------------+----------+-------+\nonly showing top 20 rows\n",
					"output_type": "stream"
				}
			]
		},
		{
			"cell_type": "markdown",
			"source": "## Join Create Dataframes from DynamicFrameCollection",
			"metadata": {}
		},
		{
			"cell_type": "code",
			"source": "dyf_root_address = unested.select(\"root_address\")\ndyf_root = unested.select(\"root\")",
			"metadata": {
				"trusted": true
			},
			"execution_count": null,
			"outputs": []
		},
		{
			"cell_type": "code",
			"source": "dyf_joined = dyf_root.join(paths1=['address'], paths2=['id'], frame2= dyf_root_address)",
			"metadata": {
				"trusted": true
			},
			"execution_count": null,
			"outputs": []
		},
		{
			"cell_type": "code",
			"source": "dyf_joined.toDF().show()",
			"metadata": {
				"trusted": true
			},
			"execution_count": 49,
			"outputs": [
				{
					"name": "stdout",
					"text": "+--------------------------+-------+------------+--------------------+--------+-----+----------------+----------+---+\n|address.val.street_address|address|total_amount|         customer_id|order_id|index|address.val.city|order_date| id|\n+--------------------------+-------+------------+--------------------+--------+-----+----------------+----------+---+\n|           8 Rowland Alley|     88|    $1664.09|6da36978-2b4c-41a...|      88|    0|         Setúbal|2022-03-15| 88|\n|      40 High Crossing ...|     88|    $1664.09|6da36978-2b4c-41a...|      88|    1|       Iwierzyce|2022-03-15| 88|\n|            67 Darwin Hill|    253|     $453.42|0f52a81a-0781-4f9...|     253|    0|          Crasto|2022-04-02|253|\n|            8 Fuller Drive|    253|     $453.42|0f52a81a-0781-4f9...|     253|    1|           Yunlu|2022-04-02|253|\n|            52 Dayton Lane|    253|     $453.42|0f52a81a-0781-4f9...|     253|    2|    Az̧ Z̧alī‘ah|2022-04-02|253|\n|          872 Straubel Way|    275|    $1548.06|df521924-92b0-492...|     275|    0|           Urcos|2022-07-22|275|\n|          6 Fair Oaks Road|    275|    $1548.06|df521924-92b0-492...|     275|    1|          Lianfa|2022-07-22|275|\n|         1 Sutteridge Park|    275|    $1548.06|df521924-92b0-492...|     275|    2|Paris La Défense|2022-07-22|275|\n|      43918 Manufacture...|    275|    $1548.06|df521924-92b0-492...|     275|    3|            Ijuí|2022-07-22|275|\n|      9285 Clarendon Ci...|    561|    $1853.77|a7641ceb-4569-4d6...|     561|    0|           Tayum|2022-10-16|561|\n|      83134 Brickson Pa...|    561|    $1853.77|a7641ceb-4569-4d6...|     561|    1|          Motegi|2022-10-16|561|\n|            25282 Rusk Way|    561|    $1853.77|a7641ceb-4569-4d6...|     561|    2|          Mādabā|2022-10-16|561|\n|        0 Pierstorff Place|    561|    $1853.77|a7641ceb-4569-4d6...|     561|    3|           Aoshi|2022-10-16|561|\n|           66082 5th Trail|    561|    $1853.77|a7641ceb-4569-4d6...|     561|    4|          Wufeng|2022-10-16|561|\n|                          |    154|    $1258.88|2be20940-aeea-43e...|     154| null|                |2022-07-30|154|\n|       6007 Mandrake Point|    473|     $757.32|5569798b-2d9d-430...|     473|    0|        Pizhanka|2022-10-20|473|\n|        59 Thackeray Point|    473|     $757.32|5569798b-2d9d-430...|     473|    1|     Princeville|2022-10-20|473|\n|          70234 Monica Way|    473|     $757.32|5569798b-2d9d-430...|     473|    2|        Cimanggu|2022-10-20|473|\n|       22 Pine View Center|    473|     $757.32|5569798b-2d9d-430...|     473|    3|          Curití|2022-10-20|473|\n|      93578 Morningstar...|    473|     $757.32|5569798b-2d9d-430...|     473|    4|     João Pessoa|2022-10-20|473|\n+--------------------------+-------+------------+--------------------+--------+-----+----------------+----------+---+\nonly showing top 20 rows\n",
					"output_type": "stream"
				}
			]
		},
		{
			"cell_type": "code",
			"source": "dyf_customer.count()",
			"metadata": {
				"trusted": true
			},
			"execution_count": 51,
			"outputs": [
				{
					"name": "stdout",
					"text": "1000\n",
					"output_type": "stream"
				}
			]
		},
		{
			"cell_type": "code",
			"source": "dyf_joined.count()",
			"metadata": {
				"trusted": true
			},
			"execution_count": 52,
			"outputs": [
				{
					"name": "stdout",
					"text": "2666\n",
					"output_type": "stream"
				}
			]
		}
	]
}