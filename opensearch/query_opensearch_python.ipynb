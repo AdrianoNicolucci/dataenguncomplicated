{
 "cells": [
  {
   "cell_type": "code",
   "execution_count": null,
   "id": "9235c90c",
   "metadata": {},
   "outputs": [],
   "source": [
    "import awswrangler as wr"
   ]
  },
  {
   "cell_type": "markdown",
   "id": "74d79f48",
   "metadata": {},
   "source": [
    "Description: This jupyter notebook is a link to the code I walked through in my video https://youtu.be/YpOJOVnXLW8. As mentioned in my video it is never a good idea to checkin your password in your code. "
   ]
  },
  {
   "cell_type": "markdown",
   "id": "ff6d274d",
   "metadata": {},
   "source": [
    "# Connect To Open Search Cluster"
   ]
  },
  {
   "cell_type": "code",
   "execution_count": null,
   "id": "d82ca118",
   "metadata": {},
   "outputs": [],
   "source": [
    "host= ''\n",
    "port=443 #change if port is not 443\n",
    "username=''\n",
    "password= ''\n",
    "\n",
    "os_connection = wr.opensearch.connect(host=host, \n",
    "                     port=port, \n",
    "                     username=username, \n",
    "                     password= password)"
   ]
  },
  {
   "cell_type": "markdown",
   "id": "6320c877",
   "metadata": {},
   "source": [
    "# Read data from index"
   ]
  },
  {
   "cell_type": "markdown",
   "id": "2b612876",
   "metadata": {},
   "source": [
    "## read data with dsl query"
   ]
  },
  {
   "cell_type": "code",
   "execution_count": null,
   "id": "8e69d705",
   "metadata": {
    "scrolled": true
   },
   "outputs": [],
   "source": [
    "df = wr.opensearch.search(\n",
    "        client=os_connection,\n",
    "        index='cars',\n",
    "        search_body={\n",
    "  \"query\": {\n",
    "          \"match\": {\n",
    "        \"car_make\": \"Toyota\"}\n",
    "  }\n",
    "  })\n",
    "\n",
    "df.head()"
   ]
  },
  {
   "cell_type": "markdown",
   "id": "9343aeb3",
   "metadata": {},
   "source": [
    "## filter records on multiple fields"
   ]
  },
  {
   "cell_type": "code",
   "execution_count": null,
   "id": "68bd6e45",
   "metadata": {},
   "outputs": [],
   "source": [
    "df = wr.opensearch.search(\n",
    "        client=os_connection,\n",
    "        index='cars',\n",
    "        search_body={\n",
    "  \"query\": {\n",
    "    \"bool\": {\n",
    "      \"must\": [\n",
    "          {\n",
    "          \"match\": {\n",
    "        \"car_make\": \"Toyota\"}\n",
    "      }, {\"match\": {\n",
    "        \"car_model\": \"Corolla\"}}]\n",
    "  }\n",
    "}\n",
    "}\n",
    ")\n",
    "print (df)"
   ]
  },
  {
   "cell_type": "markdown",
   "id": "3f16530d",
   "metadata": {},
   "source": [
    "## read data from opensearch with sql query"
   ]
  },
  {
   "cell_type": "code",
   "execution_count": null,
   "id": "02b9231c",
   "metadata": {},
   "outputs": [],
   "source": [
    "\n",
    "df2 = wr.opensearch.search_by_sql(\n",
    "        client=os_connection,\n",
    "        sql_query='SELECT * FROM cars WHERE car_make = \"Toyota\" and car_model = \"Corolla\"'\n",
    "     )\n",
    "print (df2)"
   ]
  }
 ],
 "metadata": {
  "kernelspec": {
   "display_name": "Python 3 (ipykernel)",
   "language": "python",
   "name": "python3"
  },
  "language_info": {
   "codemirror_mode": {
    "name": "ipython",
    "version": 3
   },
   "file_extension": ".py",
   "mimetype": "text/x-python",
   "name": "python",
   "nbconvert_exporter": "python",
   "pygments_lexer": "ipython3",
   "version": "3.10.0"
  }
 },
 "nbformat": 4,
 "nbformat_minor": 5
}
