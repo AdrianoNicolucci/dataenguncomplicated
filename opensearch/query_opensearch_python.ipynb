{
 "cells": [
  {
   "cell_type": "code",
   "execution_count": 3,
   "id": "9235c90c",
   "metadata": {},
   "outputs": [],
   "source": [
    "import awswrangler as wr"
   ]
  },
  {
   "cell_type": "markdown",
   "id": "74d79f48",
   "metadata": {},
   "source": [
    "Descrption: This jupyter notebook is a link to the code I walked through in my video https://youtu.be/YpOJOVnXLW8. As mentioned in my video it is never a good idea to checkin your password in your code. "
   ]
  },
  {
   "cell_type": "markdown",
   "id": "ff6d274d",
   "metadata": {},
   "source": [
    "# Connect To Open Search Cluster"
   ]
  },
  {
   "cell_type": "code",
   "execution_count": null,
   "id": "d82ca118",
   "metadata": {},
   "outputs": [],
   "source": [
    "host= ''\n",
    "port=443 #change if port is not 443\n",
    "username=''\n",
    "password= ''\n",
    "\n",
    "os_connection = wr.opensearch.connect(host=host, \n",
    "                     port=port, \n",
    "                     username=username, \n",
    "                     password= password)"
   ]
  },
  {
   "cell_type": "markdown",
   "id": "6320c877",
   "metadata": {},
   "source": [
    "# Read data from index"
   ]
  },
  {
   "cell_type": "markdown",
   "id": "2b612876",
   "metadata": {},
   "source": [
    "## read data with dsl query"
   ]
  },
  {
   "cell_type": "code",
   "execution_count": 5,
   "id": "8e69d705",
   "metadata": {
    "scrolled": true
   },
   "outputs": [
    {
     "data": {
      "text/html": [
       "<div>\n",
       "<style scoped>\n",
       "    .dataframe tbody tr th:only-of-type {\n",
       "        vertical-align: middle;\n",
       "    }\n",
       "\n",
       "    .dataframe tbody tr th {\n",
       "        vertical-align: top;\n",
       "    }\n",
       "\n",
       "    .dataframe thead th {\n",
       "        text-align: right;\n",
       "    }\n",
       "</style>\n",
       "<table border=\"1\" class=\"dataframe\">\n",
       "  <thead>\n",
       "    <tr style=\"text-align: right;\">\n",
       "      <th></th>\n",
       "      <th>_id</th>\n",
       "      <th>car_make</th>\n",
       "      <th>car_model</th>\n",
       "      <th>car_model_year</th>\n",
       "    </tr>\n",
       "  </thead>\n",
       "  <tbody>\n",
       "    <tr>\n",
       "      <th>0</th>\n",
       "      <td>4</td>\n",
       "      <td>Toyota</td>\n",
       "      <td>Corolla</td>\n",
       "      <td>2011</td>\n",
       "    </tr>\n",
       "    <tr>\n",
       "      <th>1</th>\n",
       "      <td>1</td>\n",
       "      <td>Toyota</td>\n",
       "      <td>Camry</td>\n",
       "      <td>2011</td>\n",
       "    </tr>\n",
       "  </tbody>\n",
       "</table>\n",
       "</div>"
      ],
      "text/plain": [
       "  _id car_make car_model  car_model_year\n",
       "0   4   Toyota   Corolla            2011\n",
       "1   1   Toyota     Camry            2011"
      ]
     },
     "execution_count": 5,
     "metadata": {},
     "output_type": "execute_result"
    }
   ],
   "source": [
    "df = wr.opensearch.search(\n",
    "        client=os_connection,\n",
    "        index='cars',\n",
    "        search_body={\n",
    "  \"query\": {\n",
    "          \"match\": {\n",
    "        \"car_make\": \"Toyota\"}\n",
    "  }\n",
    "  })\n",
    "\n",
    "df.head()"
   ]
  },
  {
   "cell_type": "markdown",
   "id": "9343aeb3",
   "metadata": {},
   "source": [
    "## filter records on multiple fields"
   ]
  },
  {
   "cell_type": "code",
   "execution_count": 6,
   "id": "68bd6e45",
   "metadata": {},
   "outputs": [
    {
     "name": "stdout",
     "output_type": "stream",
     "text": [
      "  _id car_make car_model  car_model_year\n",
      "0   4   Toyota   Corolla            2011\n"
     ]
    }
   ],
   "source": [
    "df = wr.opensearch.search(\n",
    "        client=os_connection,\n",
    "        index='cars',\n",
    "        search_body={\n",
    "  \"query\": {\n",
    "    \"bool\": {\n",
    "      \"must\": [\n",
    "          {\n",
    "          \"match\": {\n",
    "        \"car_make\": \"Toyota\"}\n",
    "      }, {\"match\": {\n",
    "        \"car_model\": \"Corolla\"}}]\n",
    "  }\n",
    "}\n",
    "}\n",
    ")\n",
    "print (df)"
   ]
  },
  {
   "cell_type": "markdown",
   "id": "3f16530d",
   "metadata": {},
   "source": [
    "## read data from opensearch with sql query"
   ]
  },
  {
   "cell_type": "code",
   "execution_count": 8,
   "id": "02b9231c",
   "metadata": {},
   "outputs": [
    {
     "name": "stdout",
     "output_type": "stream",
     "text": [
      "  _index _type _id  _score car_make car_model  car_model_year\n",
      "0   cars  _doc   1     0.0   Toyota     Camry            2011\n"
     ]
    }
   ],
   "source": [
    "\n",
    "df2 = wr.opensearch.search_by_sql(\n",
    "        client=os_connection,\n",
    "        sql_query='SELECT * FROM cars WHERE car_make = \"Toyota\" and car_model = \"Corolla\"'\n",
    "     )\n",
    "print (df2)"
   ]
  }
 ],
 "metadata": {
  "kernelspec": {
   "display_name": "Python 3 (ipykernel)",
   "language": "python",
   "name": "python3"
  },
  "language_info": {
   "codemirror_mode": {
    "name": "ipython",
    "version": 3
   },
   "file_extension": ".py",
   "mimetype": "text/x-python",
   "name": "python",
   "nbconvert_exporter": "python",
   "pygments_lexer": "ipython3",
   "version": "3.10.0"
  }
 },
 "nbformat": 4,
 "nbformat_minor": 5
}
