{
	"metadata": {
		"kernelspec": {
			"name": "glue_pyspark",
			"display_name": "Glue PySpark",
			"language": "python"
		},
		"language_info": {
			"name": "Python_Glue_Session",
			"mimetype": "text/x-python",
			"codemirror_mode": {
				"name": "python",
				"version": 3
			},
			"pygments_lexer": "python3",
			"file_extension": ".py"
		}
	},
	"nbformat_minor": 4,
	"nbformat": 4,
	"cells": [
		{
			"cell_type": "markdown",
			"source": "# AWS Glue Studio Notebook\n##### You are now running a AWS Glue Studio notebook; To start using your notebook you need to start an AWS Glue Interactive Session.\n",
			"metadata": {
				"editable": true,
				"trusted": true
			}
		},
		{
			"cell_type": "markdown",
			"source": "####  Run this cell to set up and start your interactive session.\n",
			"metadata": {
				"editable": true,
				"trusted": true
			}
		},
		{
			"cell_type": "code",
			"source": "%idle_timeout 60\n%glue_version 3.0\n%worker_type G.1X\n%number_of_workers 2\n%connections \"adriano_redshift_cluster\"\n\nimport sys\nfrom awsglue.transforms import *\nfrom awsglue.utils import getResolvedOptions\nfrom pyspark.context import SparkContext\nfrom awsglue.context import GlueContext\nfrom awsglue.job import Job\n  \nsc = SparkContext.getOrCreate()\nglueContext = GlueContext(sc)\nspark = glueContext.spark_session\njob = Job(glueContext)",
			"metadata": {
				"editable": true,
				"trusted": true
			},
			"execution_count": 14,
			"outputs": [
				{
					"name": "stderr",
					"text": "You are already connected to a glueetl session b048a821-d526-4688-91e4-7c118e856076.\n\nNo change will be made to the current session that is set as glueetl. The session configuration change will apply to newly created sessions.\n",
					"output_type": "stream"
				},
				{
					"name": "stdout",
					"text": "Current idle_timeout is 60 minutes.\nidle_timeout has been set to 60 minutes.\n",
					"output_type": "stream"
				},
				{
					"name": "stderr",
					"text": "You are already connected to a glueetl session b048a821-d526-4688-91e4-7c118e856076.\n\nNo change will be made to the current session that is set as glueetl. The session configuration change will apply to newly created sessions.\n",
					"output_type": "stream"
				},
				{
					"name": "stdout",
					"text": "Setting Glue version to: 3.0\n",
					"output_type": "stream"
				},
				{
					"name": "stderr",
					"text": "You are already connected to a glueetl session b048a821-d526-4688-91e4-7c118e856076.\n\nNo change will be made to the current session that is set as glueetl. The session configuration change will apply to newly created sessions.\n",
					"output_type": "stream"
				},
				{
					"name": "stdout",
					"text": "Previous worker type: G.1X\nSetting new worker type to: G.1X\n",
					"output_type": "stream"
				},
				{
					"name": "stderr",
					"text": "You are already connected to a glueetl session b048a821-d526-4688-91e4-7c118e856076.\n\nNo change will be made to the current session that is set as glueetl. The session configuration change will apply to newly created sessions.\n",
					"output_type": "stream"
				},
				{
					"name": "stdout",
					"text": "Previous number of workers: 2\nSetting new number of workers to: 2\n",
					"output_type": "stream"
				},
				{
					"name": "stderr",
					"text": "You are already connected to a glueetl session b048a821-d526-4688-91e4-7c118e856076.\n\nNo change will be made to the current session that is set as glueetl. The session configuration change will apply to newly created sessions.\n",
					"output_type": "stream"
				},
				{
					"name": "stdout",
					"text": "Connections to be included:\nadriano_redshift_cluster\n\n",
					"output_type": "stream"
				}
			]
		},
		{
			"cell_type": "markdown",
			"source": "#### Create a DynamicFrame from the target redshift table in the AWS Glue Data Catalog and display its schema\n",
			"metadata": {
				"editable": true,
				"trusted": true
			}
		},
		{
			"cell_type": "code",
			"source": "tmp_dir = \"s3://adriano-datalake-us-east-1/raw/temp_dir/\"\ndyf_target = glueContext.create_dynamic_frame.from_catalog(database='adriano-redshift', table_name='dev_public_category_1', redshift_tmp_dir=tmp_dir)\ndyf_target.printSchema()",
			"metadata": {
				"editable": true,
				"trusted": true
			},
			"execution_count": 20,
			"outputs": [
				{
					"name": "stdout",
					"text": "root\n|-- catid: int\n|-- catgroup: string\n|-- catname: string\n|-- catdesc: string\n|-- date_modified: date\n",
					"output_type": "stream"
				}
			]
		},
		{
			"cell_type": "markdown",
			"source": "#### Convert the DynamicFrame to a Spark DataFrame and display a sample of the data\n",
			"metadata": {
				"editable": true,
				"trusted": true
			}
		},
		{
			"cell_type": "code",
			"source": "df_target = dyf_target.toDF()\ndf_target.show()",
			"metadata": {
				"editable": true,
				"trusted": true
			},
			"execution_count": 21,
			"outputs": [
				{
					"name": "stdout",
					"text": "+-----+--------+-------------+--------------------+-------------+\n|catid|catgroup|      catname|             catdesc|date_modified|\n+-----+--------+-------------+--------------------+-------------+\n|   10|Concerts|         Jazz|All jazz singers ...|   2021-03-11|\n|   13|Concerts|        House|electronic dance ...|   2023-03-05|\n|    4|  Sports|          NBA|National Basketba...|   2021-03-11|\n|   11|Concerts|    Classical|All symphony, con...|   2021-03-11|\n|    6|   Shows|     Musicals|     Musical theatre|   2021-03-11|\n|    7|   Shows|        Plays|All non-musical t...|   2021-03-11|\n|    8|   Shows|        Opera|All opera and lig...|   2021-03-11|\n|   12|Concerts|Electro Swing|Mix of Jazz and E...|   2023-03-05|\n|    5|  Sports|          MLS| Major League Soccer|   2021-03-11|\n|    1|  Sports|          MLB|Major League Base...|   2021-03-11|\n|    2|  Sports|          NHL|National Hockey L...|   2021-03-11|\n|    9|Concerts|  Country pop| a fusion genre o...|   2023-03-05|\n|    3|  Sports|          NFL|National Football...|   2021-03-11|\n+-----+--------+-------------+--------------------+-------------+\n",
					"output_type": "stream"
				}
			]
		},
		{
			"cell_type": "markdown",
			"source": "#### Read the data in into a DynamicFrame from a csv file in Amazon S3\n",
			"metadata": {
				"editable": true,
				"trusted": true
			}
		},
		{
			"cell_type": "code",
			"source": "s3_path = 's3://adriano-datalake-us-east-1/raw/categories/categories.csv'\ndyf_categories = glueContext.create_dynamic_frame_from_options(connection_type= 's3',\n                                                               connection_options={\"paths\": [s3_path]},\n                                                               format='csv', format_options = {\"withHeader\": True, \"optimizePerformance\": True})\n",
			"metadata": {
				"trusted": true
			},
			"execution_count": 17,
			"outputs": [
				{
					"name": "stdout",
					"text": "\n",
					"output_type": "stream"
				}
			]
		},
		{
			"cell_type": "markdown",
			"source": "#### Convert the DynamicFrame to a Spark DataFrame and display a sample of the data\n",
			"metadata": {}
		},
		{
			"cell_type": "code",
			"source": "df_categories = dyf_categories.toDF()\ndf_categories.show()",
			"metadata": {
				"trusted": true
			},
			"execution_count": 18,
			"outputs": [
				{
					"name": "stdout",
					"text": "+------+--------+-------------+--------------------+--------------+\n|﻿catid|catgroup|      catname|             catdesc|date_modified\n+------+--------+-------------+--------------------+--------------+\n|     9|Concerts|  Country pop| a fusion genre o...|   2023-03-05\n|    13|Concerts|        House|electronic dance ...|   2023-03-05\n|    12|Concerts|Electro Swing|Mix of Jazz and E...|   2023-03-05\n+------+--------+-------------+--------------------+--------------+\n",
					"output_type": "stream"
				}
			]
		},
		{
			"cell_type": "markdown",
			"source": "#### Upsert records to existing target redshift table using a staging table",
			"metadata": {}
		},
		{
			"cell_type": "code",
			"source": "pre_query = \"\"\"drop table if exists public.stage_table_category_1;\ncreate table public.stage_table_category_1 as select * from public.category_1 where 1=2;\"\"\"\npost_query = \"\"\"begin;delete from public.category_1 using public.stage_table_category_1 where public.stage_table_category_1.catid = public.category_1.catid;\ninsert into public.category_1 select * from public.stage_table_category_1;\ndrop table public.stage_table_category_1; end;\"\"\"\nRedshiftCluster_node3 = glueContext.write_dynamic_frame.from_jdbc_conf(\n    frame=dyf_categories,\n    catalog_connection=\"adriano_redshift_cluster\",\n    connection_options={\n        \"database\": \"dev\",\n        \"dbtable\": \"public.stage_table_category_1\",\n        \"preactions\": pre_query,\n        \"postactions\": post_query,\n    },\n    redshift_tmp_dir=tmp_dir,\n    transformation_ctx=\"upsert_to_redshift\",\n)",
			"metadata": {
				"editable": true,
				"trusted": true
			},
			"execution_count": 19,
			"outputs": [
				{
					"name": "stdout",
					"text": "\n",
					"output_type": "stream"
				}
			]
		}
	]
}