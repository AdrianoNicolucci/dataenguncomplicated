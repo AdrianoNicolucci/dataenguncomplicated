{
 "cells": [
  {
   "cell_type": "markdown",
   "metadata": {},
   "source": [
    "## Jupyter Notebook Description"
   ]
  },
  {
   "cell_type": "markdown",
   "metadata": {},
   "source": [
    "##### This is the code related to the technical walkthrough I did in this video: https://youtu.be/AX-TlukZL0c You will need to set your profile name and glue database connection name in order to make this work with your code as well as your sql query. This is to be used as an example to get you up and running querying data from redshift with the AWS SDK for Pandas Library."
   ]
  },
  {
   "cell_type": "code",
   "execution_count": 1,
   "metadata": {
    "ExecuteTime": {
     "end_time": "2023-07-22T17:47:19.461542Z",
     "start_time": "2023-07-22T17:47:19.454543Z"
    },
    "pycharm": {
     "is_executing": true
    }
   },
   "outputs": [],
   "source": [
    "import awswrangler\n",
    "import boto3\n",
    "import os"
   ]
  },
  {
   "cell_type": "markdown",
   "metadata": {},
   "source": [
    "## Create Boto3 Session"
   ]
  },
  {
   "cell_type": "code",
   "execution_count": 2,
   "metadata": {
    "ExecuteTime": {
     "end_time": "2023-07-22T17:47:21.276967Z",
     "start_time": "2023-07-22T17:47:21.267800Z"
    }
   },
   "outputs": [],
   "source": [
    "profile_name = os.environ.get('profile_name')\n",
    "boto3_session = boto3.Session(profile_name=profile_name,region_name='us-east-1')"
   ]
  },
  {
   "cell_type": "markdown",
   "metadata": {},
   "source": [
    "## Create Redshift connection"
   ]
  },
  {
   "cell_type": "code",
   "execution_count": 3,
   "metadata": {
    "ExecuteTime": {
     "end_time": "2023-07-22T17:47:23.481849Z",
     "start_time": "2023-07-22T17:47:23.019322Z"
    }
   },
   "outputs": [],
   "source": [
    "glue_database_connection = 'adriano_redshift_cluster'\n",
    "redshift_connection = awswrangler.redshift.connect(connection='adriano_redshift_cluster',\n",
    "                                                   boto3_session=boto3_session,)"
   ]
  },
  {
   "cell_type": "markdown",
   "metadata": {},
   "source": [
    "## Query an entire redshift table"
   ]
  },
  {
   "cell_type": "code",
   "execution_count": 4,
   "metadata": {
    "ExecuteTime": {
     "end_time": "2023-07-22T18:07:21.298166Z",
     "start_time": "2023-07-22T18:07:21.259529Z"
    }
   },
   "outputs": [
    {
     "name": "stdout",
     "output_type": "stream",
     "text": [
      "    catid  catgroup        catname  \\\n",
      "0       2    Sports            NHL   \n",
      "1       5    Sports            MLS   \n",
      "2       3    Sports            NFL   \n",
      "3       8     Shows          Opera   \n",
      "4       9  Concerts    Country pop   \n",
      "5       4    Sports            NBA   \n",
      "6       7     Shows          Plays   \n",
      "7      10  Concerts           Jazz   \n",
      "8       1    Sports            MLB   \n",
      "9       6     Shows       Musicals   \n",
      "10     11  Concerts      Classical   \n",
      "11     13  Concerts          House   \n",
      "12     12  Concerts  Electro Swing   \n",
      "\n",
      "                                           catdesc date_modified  \n",
      "0                           National Hockey League    2021-03-11  \n",
      "1                              Major League Soccer    2021-03-11  \n",
      "2                         National Football League    2021-03-11  \n",
      "3                        All opera and light opera    2021-03-11  \n",
      "4    a fusion genre of country music and pop music    2023-03-05  \n",
      "5                  National Basketball Association    2021-03-11  \n",
      "6                          All non-musical theatre    2021-03-11  \n",
      "7                       All jazz singers and bands    2021-03-11  \n",
      "8                            Major League Baseball    2021-03-11  \n",
      "9                                  Musical theatre    2021-03-11  \n",
      "10      All symphony, concerto, and choir concerts    2021-03-11  \n",
      "11                          electronic dance music    2023-03-05  \n",
      "12                Mix of Jazz and Electronic Dance    2023-03-05  \n"
     ]
    }
   ],
   "source": [
    "sql_query = \"\"\"select * from public.category_1\n",
    "\"\"\"\n",
    "df = awswrangler.redshift.read_sql_query(sql=sql_query,con=redshift_connection)\n",
    "print (df)"
   ]
  },
  {
   "cell_type": "markdown",
   "metadata": {},
   "source": [
    "## Query single table with where statement"
   ]
  },
  {
   "cell_type": "code",
   "execution_count": 5,
   "metadata": {
    "ExecuteTime": {
     "end_time": "2023-07-22T18:06:46.442022Z",
     "start_time": "2023-07-22T18:06:46.294997Z"
    }
   },
   "outputs": [
    {
     "name": "stdout",
     "output_type": "stream",
     "text": [
      "   catid catgroup   catname          catdesc date_modified\n",
      "0      6    Shows  Musicals  Musical theatre    2021-03-11\n"
     ]
    }
   ],
   "source": [
    "sql_query = \"\"\"select * from public.category_1\n",
    "where catid = 6\n",
    "\"\"\"\n",
    "df = awswrangler.redshift.read_sql_query(sql=sql_query,con=redshift_connection)\n",
    "print(df)"
   ]
  },
  {
   "cell_type": "markdown",
   "metadata": {},
   "source": [
    "## Query single table with parameters"
   ]
  },
  {
   "cell_type": "code",
   "execution_count": 6,
   "metadata": {
    "ExecuteTime": {
     "end_time": "2023-07-22T18:00:08.042844Z",
     "start_time": "2023-07-22T18:00:07.901268Z"
    }
   },
   "outputs": [
    {
     "name": "stdout",
     "output_type": "stream",
     "text": [
      "   catid catgroup   catname          catdesc date_modified\n",
      "0      6    Shows  Musicals  Musical theatre    2021-03-11\n"
     ]
    }
   ],
   "source": [
    "cat_id = 6 #parameter to pass to sql query\n",
    "sql_query = f\"\"\"select * from public.category_1\n",
    "where catid = %s\n",
    "\"\"\"\n",
    "df = awswrangler.redshift.read_sql_query(sql=sql_query,con=redshift_connection,params=[cat_id])\n",
    "print(df)"
   ]
  },
  {
   "cell_type": "markdown",
   "metadata": {},
   "source": [
    "## Query data from multiple tables with a SQL JOIN"
   ]
  },
  {
   "cell_type": "code",
   "execution_count": 7,
   "metadata": {
    "ExecuteTime": {
     "end_time": "2023-07-22T18:05:23.072822Z",
     "start_time": "2023-07-22T18:05:18.202061Z"
    }
   },
   "outputs": [
    {
     "name": "stdout",
     "output_type": "stream",
     "text": [
      "      eventid          eventname  catid   catname           starttime\n",
      "0        1334     The King and I      6  Musicals 2008-01-01 14:30:00\n",
      "1        1376     The King and I      6  Musicals 2008-01-01 14:30:00\n",
      "2        1766           Spamalot      6  Musicals 2008-01-02 15:00:00\n",
      "3         744        Jersey Boys      6  Musicals 2008-01-03 20:00:00\n",
      "4        1191           Spamalot      6  Musicals 2008-01-03 20:00:00\n",
      "...       ...                ...    ...       ...                 ...\n",
      "1295     1341  Shrek the Musical      6  Musicals 2008-12-30 15:00:00\n",
      "1296     1545       Beatles LOVE      6  Musicals 2008-12-30 19:30:00\n",
      "1297      816         Mamma Mia!      6  Musicals 2008-12-31 14:30:00\n",
      "1298      914     Legally Blonde      6  Musicals 2008-12-31 19:00:00\n",
      "1299     1489         Mamma Mia!      6  Musicals 2008-12-31 19:30:00\n",
      "\n",
      "[1300 rows x 5 columns]\n"
     ]
    }
   ],
   "source": [
    "cat_id = 6 #parameter to pass to sql query\n",
    "sql_query = \"\"\"select\n",
    "eventid,\n",
    "eventname,\n",
    "category_1.catid,\n",
    "catname,\n",
    "starttime\n",
    "from event\n",
    "inner join public.category_1 on public.category_1.catid =  event.catid\n",
    "where category_1.catid = %s\n",
    "\"\"\"\n",
    "df = awswrangler.redshift.read_sql_query(sql=sql_query,con=redshift_connection,params=[cat_id])\n",
    "print(df)"
   ]
  }
 ],
 "metadata": {
  "kernelspec": {
   "display_name": "Python 3 (ipykernel)",
   "language": "python",
   "name": "python3"
  },
  "language_info": {
   "codemirror_mode": {
    "name": "ipython",
    "version": 3
   },
   "file_extension": ".py",
   "mimetype": "text/x-python",
   "name": "python",
   "nbconvert_exporter": "python",
   "pygments_lexer": "ipython3",
   "version": "3.10.0"
  }
 },
 "nbformat": 4,
 "nbformat_minor": 1
}
