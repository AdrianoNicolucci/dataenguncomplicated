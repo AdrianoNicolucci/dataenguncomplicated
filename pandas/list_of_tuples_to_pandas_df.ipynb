{
 "cells": [
  {
   "cell_type": "code",
   "execution_count": null,
   "id": "41e69552",
   "metadata": {},
   "outputs": [],
   "source": [
    "import pandas as pd"
   ]
  },
  {
   "cell_type": "markdown",
   "id": "0fa22da1",
   "metadata": {},
   "source": [
    "## Sample data"
   ]
  },
  {
   "cell_type": "code",
   "execution_count": null,
   "id": "2dd5f5ed",
   "metadata": {},
   "outputs": [],
   "source": [
    "records = [(\"Daryl\",\"Guillot\",\"dguillot0@msn.com\"),\n",
    "        (\"Page\",\"Gerleit\",\"pgerleit1@mozilla.com\"),\n",
    "        (\"Haven\",\"Hache\",\"hhache2@latimes.com\")]\n",
    "columns=[\"first_name\",\"last_name\",\"email\"]"
   ]
  },
  {
   "cell_type": "markdown",
   "id": "94ce8cc8",
   "metadata": {},
   "source": [
    "# Convert list of tuples into a pandas dataframe"
   ]
  },
  {
   "cell_type": "markdown",
   "id": "60de87d7",
   "metadata": {},
   "source": [
    "## Method 1"
   ]
  },
  {
   "cell_type": "code",
   "execution_count": null,
   "id": "4d2bf9b2",
   "metadata": {},
   "outputs": [],
   "source": [
    "df = pd.DataFrame(data=records,columns=columns) "
   ]
  },
  {
   "cell_type": "code",
   "execution_count": null,
   "id": "b92f6862",
   "metadata": {},
   "outputs": [],
   "source": [
    "df.head()"
   ]
  },
  {
   "cell_type": "markdown",
   "id": "3530c6b7",
   "metadata": {},
   "source": [
    "## Method 2"
   ]
  },
  {
   "cell_type": "code",
   "execution_count": null,
   "id": "02f47070",
   "metadata": {},
   "outputs": [],
   "source": [
    "#use the add the from_records method and add the exclude parameter if you want filter columns before writing to pandas datraframe\n",
    "df2=pd.DataFrame.from_records(data=records,exclude=['first_name'],\n",
    "                              columns=columns) "
   ]
  },
  {
   "cell_type": "code",
   "execution_count": null,
   "id": "fcf9395f",
   "metadata": {},
   "outputs": [],
   "source": [
    "df2.head()"
   ]
  }
 ],
 "metadata": {
  "kernelspec": {
   "display_name": "Python 3 (ipykernel)",
   "language": "python",
   "name": "python3"
  },
  "language_info": {
   "codemirror_mode": {
    "name": "ipython",
    "version": 3
   },
   "file_extension": ".py",
   "mimetype": "text/x-python",
   "name": "python",
   "nbconvert_exporter": "python",
   "pygments_lexer": "ipython3",
   "version": "3.10.0"
  }
 },
 "nbformat": 4,
 "nbformat_minor": 5
}
